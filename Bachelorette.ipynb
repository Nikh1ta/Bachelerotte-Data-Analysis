{
 "cells": [
  {
   "cell_type": "code",
   "execution_count": 590,
   "id": "d655381b",
   "metadata": {},
   "outputs": [],
   "source": [
    "import pandas as pd\n",
    "import seaborn as sns\n",
    "import numpy as np\n",
    "import matplotlib.pyplot as plt\n",
    "from plotly.offline import init_notebook_mode, iplot\n",
    "import plotly.graph_objects as go\n",
    "%matplotlib inline"
   ]
  },
  {
   "cell_type": "code",
   "execution_count": 591,
   "id": "d60d282a",
   "metadata": {},
   "outputs": [],
   "source": [
    "df=pd.read_csv(\"Bachelorette.csv\")"
   ]
  },
  {
   "cell_type": "code",
   "execution_count": 592,
   "id": "346d6aba",
   "metadata": {},
   "outputs": [
    {
     "data": {
      "text/html": [
       "<div>\n",
       "<style scoped>\n",
       "    .dataframe tbody tr th:only-of-type {\n",
       "        vertical-align: middle;\n",
       "    }\n",
       "\n",
       "    .dataframe tbody tr th {\n",
       "        vertical-align: top;\n",
       "    }\n",
       "\n",
       "    .dataframe thead th {\n",
       "        text-align: right;\n",
       "    }\n",
       "</style>\n",
       "<table border=\"1\" class=\"dataframe\">\n",
       "  <thead>\n",
       "    <tr style=\"text-align: right;\">\n",
       "      <th></th>\n",
       "      <th>Season</th>\n",
       "      <th>Name</th>\n",
       "      <th>Age</th>\n",
       "      <th>Hometown</th>\n",
       "      <th>State</th>\n",
       "      <th>College</th>\n",
       "      <th>Occupation</th>\n",
       "      <th>Win_Loss</th>\n",
       "      <th>Height (cm)</th>\n",
       "      <th>Girlfriend While on the Show?</th>\n",
       "      <th>Hair Color</th>\n",
       "      <th>Eye Color</th>\n",
       "    </tr>\n",
       "  </thead>\n",
       "  <tbody>\n",
       "    <tr>\n",
       "      <th>0</th>\n",
       "      <td>15.0</td>\n",
       "      <td>Jed Wyatt</td>\n",
       "      <td>25.0</td>\n",
       "      <td>Sevierville, Tennessee</td>\n",
       "      <td>TN</td>\n",
       "      <td>Belmont University</td>\n",
       "      <td>Singer/Sonwriter</td>\n",
       "      <td>1.0</td>\n",
       "      <td>190.50</td>\n",
       "      <td>Yes</td>\n",
       "      <td>Brown</td>\n",
       "      <td>Brown</td>\n",
       "    </tr>\n",
       "    <tr>\n",
       "      <th>1</th>\n",
       "      <td>15.0</td>\n",
       "      <td>Tyler Cameron</td>\n",
       "      <td>26.0</td>\n",
       "      <td>Jupiter, Florida</td>\n",
       "      <td>FL</td>\n",
       "      <td>Wake Forest</td>\n",
       "      <td>General Contractor</td>\n",
       "      <td>0.0</td>\n",
       "      <td>187.96</td>\n",
       "      <td>No</td>\n",
       "      <td>Brown</td>\n",
       "      <td>Green</td>\n",
       "    </tr>\n",
       "    <tr>\n",
       "      <th>2</th>\n",
       "      <td>15.0</td>\n",
       "      <td>Peter Weber</td>\n",
       "      <td>27.0</td>\n",
       "      <td>Westlake Village, California</td>\n",
       "      <td>CA</td>\n",
       "      <td>Baylor University</td>\n",
       "      <td>Pilot</td>\n",
       "      <td>0.0</td>\n",
       "      <td>175.25</td>\n",
       "      <td>No</td>\n",
       "      <td>Brown</td>\n",
       "      <td>Brown</td>\n",
       "    </tr>\n",
       "    <tr>\n",
       "      <th>3</th>\n",
       "      <td>15.0</td>\n",
       "      <td>Luke Parker</td>\n",
       "      <td>24.0</td>\n",
       "      <td>Gainesville, Georgia</td>\n",
       "      <td>GA</td>\n",
       "      <td>Faulkner University</td>\n",
       "      <td>Import/Export Manager</td>\n",
       "      <td>0.0</td>\n",
       "      <td>175.00</td>\n",
       "      <td>No</td>\n",
       "      <td>Blonde</td>\n",
       "      <td>Brown</td>\n",
       "    </tr>\n",
       "    <tr>\n",
       "      <th>4</th>\n",
       "      <td>15.0</td>\n",
       "      <td>Garrett Powell</td>\n",
       "      <td>27.0</td>\n",
       "      <td>Homewood, Alabama</td>\n",
       "      <td>AL</td>\n",
       "      <td>Mississippi State University</td>\n",
       "      <td>Golf Pro</td>\n",
       "      <td>0.0</td>\n",
       "      <td>NaN</td>\n",
       "      <td>No</td>\n",
       "      <td>Brown</td>\n",
       "      <td>Green</td>\n",
       "    </tr>\n",
       "  </tbody>\n",
       "</table>\n",
       "</div>"
      ],
      "text/plain": [
       "   Season            Name   Age                      Hometown State  \\\n",
       "0    15.0       Jed Wyatt  25.0        Sevierville, Tennessee    TN   \n",
       "1    15.0   Tyler Cameron  26.0              Jupiter, Florida    FL   \n",
       "2    15.0     Peter Weber  27.0  Westlake Village, California    CA   \n",
       "3    15.0     Luke Parker  24.0          Gainesville, Georgia    GA   \n",
       "4    15.0  Garrett Powell  27.0             Homewood, Alabama    AL   \n",
       "\n",
       "                        College             Occupation  Win_Loss  Height (cm)  \\\n",
       "0            Belmont University       Singer/Sonwriter       1.0       190.50   \n",
       "1                   Wake Forest     General Contractor       0.0       187.96   \n",
       "2             Baylor University                  Pilot       0.0       175.25   \n",
       "3           Faulkner University  Import/Export Manager       0.0       175.00   \n",
       "4  Mississippi State University               Golf Pro       0.0          NaN   \n",
       "\n",
       "  Girlfriend While on the Show? Hair Color Eye Color  \n",
       "0                           Yes      Brown     Brown  \n",
       "1                            No      Brown     Green  \n",
       "2                            No      Brown     Brown  \n",
       "3                            No     Blonde     Brown  \n",
       "4                            No      Brown     Green  "
      ]
     },
     "execution_count": 592,
     "metadata": {},
     "output_type": "execute_result"
    }
   ],
   "source": [
    "df.head()"
   ]
  },
  {
   "cell_type": "code",
   "execution_count": 546,
   "id": "c773fd7d",
   "metadata": {},
   "outputs": [
    {
     "data": {
      "text/plain": [
       "Season                           13\n",
       "Name                             13\n",
       "Age                              13\n",
       "Hometown                         13\n",
       "State                            13\n",
       "College                          14\n",
       "Occupation                       13\n",
       "Win_Loss                         13\n",
       "Height (cm)                      53\n",
       "Girlfriend While on the Show?    13\n",
       "Hair Color                       13\n",
       "Eye Color                        13\n",
       "dtype: int64"
      ]
     },
     "execution_count": 546,
     "metadata": {},
     "output_type": "execute_result"
    }
   ],
   "source": [
    "df.isnull().sum()"
   ]
  },
  {
   "cell_type": "code",
   "execution_count": 548,
   "id": "1e8d297e",
   "metadata": {},
   "outputs": [
    {
     "data": {
      "text/plain": [
       "<bound method DataFrame.info of      Season            Name   Age                      Hometown State  \\\n",
       "0      15.0       Jed Wyatt  25.0        Sevierville, Tennessee    TN   \n",
       "1      15.0   Tyler Cameron  26.0              Jupiter, Florida    FL   \n",
       "2      15.0     Peter Weber  27.0  Westlake Village, California    CA   \n",
       "3      15.0     Luke Parker  24.0          Gainesville, Georgia    GA   \n",
       "4      15.0  Garrett Powell  27.0             Homewood, Alabama    AL   \n",
       "..      ...             ...   ...                           ...   ...   \n",
       "149     NaN             NaN   NaN                           NaN   NaN   \n",
       "150     NaN             NaN   NaN                           NaN   NaN   \n",
       "151     NaN             NaN   NaN                           NaN   NaN   \n",
       "152     NaN             NaN   NaN                           NaN   NaN   \n",
       "153     NaN             NaN   NaN                           NaN   NaN   \n",
       "\n",
       "                          College             Occupation  Win_Loss  \\\n",
       "0              Belmont University       Singer/Sonwriter       1.0   \n",
       "1                     Wake Forest     General Contractor       0.0   \n",
       "2               Baylor University                  Pilot       0.0   \n",
       "3             Faulkner University  Import/Export Manager       0.0   \n",
       "4    Mississippi State University               Golf Pro       0.0   \n",
       "..                            ...                    ...       ...   \n",
       "149                           NaN                    NaN       NaN   \n",
       "150                           NaN                    NaN       NaN   \n",
       "151                           NaN                    NaN       NaN   \n",
       "152                           NaN                    NaN       NaN   \n",
       "153                           NaN                    NaN       NaN   \n",
       "\n",
       "     Height (cm) Girlfriend While on the Show? Hair Color Eye Color  \n",
       "0         190.50                           Yes      Brown     Brown  \n",
       "1         187.96                            No      Brown     Green  \n",
       "2         175.25                            No      Brown     Brown  \n",
       "3         175.00                            No     Blonde     Brown  \n",
       "4            NaN                            No      Brown     Green  \n",
       "..           ...                           ...        ...       ...  \n",
       "149          NaN                           NaN        NaN       NaN  \n",
       "150          NaN                           NaN        NaN       NaN  \n",
       "151          NaN                           NaN        NaN       NaN  \n",
       "152          NaN                           NaN        NaN       NaN  \n",
       "153          NaN                           NaN        NaN       NaN  \n",
       "\n",
       "[154 rows x 12 columns]>"
      ]
     },
     "execution_count": 548,
     "metadata": {},
     "output_type": "execute_result"
    }
   ],
   "source": [
    "df.info"
   ]
  },
  {
   "cell_type": "markdown",
   "id": "168905ed",
   "metadata": {},
   "source": [
    "# Exploratory Data Analysis"
   ]
  },
  {
   "cell_type": "code",
   "execution_count": 549,
   "id": "770baa29",
   "metadata": {},
   "outputs": [
    {
     "data": {
      "text/plain": [
       "<AxesSubplot:xlabel='Win_Loss', ylabel='count'>"
      ]
     },
     "execution_count": 549,
     "metadata": {},
     "output_type": "execute_result"
    },
    {
     "data": {
      "image/png": "[encoded data removed]",
      "text/plain": [
       "<Figure size 432x288 with 1 Axes>"
      ]
     },
     "metadata": {
      "needs_background": "light"
     },
     "output_type": "display_data"
    }
   ],
   "source": [
    "sns.countplot(x='Win_Loss',data=df)"
   ]
  },
  {
   "cell_type": "code",
   "execution_count": 550,
   "id": "a37d823f",
   "metadata": {},
   "outputs": [
    {
     "data": {
      "text/plain": [
       "0.0    136\n",
       "1.0      5\n",
       "Name: Win_Loss, dtype: int64"
      ]
     },
     "execution_count": 550,
     "metadata": {},
     "output_type": "execute_result"
    }
   ],
   "source": [
    "df['Win_Loss'].value_counts()"
   ]
  },
  {
   "cell_type": "code",
   "execution_count": 551,
   "id": "3706082e",
   "metadata": {},
   "outputs": [
    {
     "data": {
      "text/plain": [
       "13.0    31\n",
       "15.0    30\n",
       "14.0    28\n",
       "11.0    26\n",
       "12.0    26\n",
       "Name: Season, dtype: int64"
      ]
     },
     "execution_count": 551,
     "metadata": {},
     "output_type": "execute_result"
    }
   ],
   "source": [
    "df['Season'].value_counts()"
   ]
  },
  {
   "cell_type": "markdown",
   "id": "0c28f820",
   "metadata": {},
   "source": [
    "## 5 people won. One from each season."
   ]
  },
  {
   "cell_type": "code",
   "execution_count": 552,
   "id": "d10c02bb",
   "metadata": {},
   "outputs": [
    {
     "data": {
      "text/html": [
       "<div>\n",
       "<style scoped>\n",
       "    .dataframe tbody tr th:only-of-type {\n",
       "        vertical-align: middle;\n",
       "    }\n",
       "\n",
       "    .dataframe tbody tr th {\n",
       "        vertical-align: top;\n",
       "    }\n",
       "\n",
       "    .dataframe thead th {\n",
       "        text-align: right;\n",
       "    }\n",
       "</style>\n",
       "<table border=\"1\" class=\"dataframe\">\n",
       "  <thead>\n",
       "    <tr style=\"text-align: right;\">\n",
       "      <th></th>\n",
       "      <th>Season</th>\n",
       "      <th>Name</th>\n",
       "      <th>Age</th>\n",
       "      <th>Hometown</th>\n",
       "      <th>State</th>\n",
       "      <th>College</th>\n",
       "      <th>Occupation</th>\n",
       "      <th>Win_Loss</th>\n",
       "      <th>Height (cm)</th>\n",
       "      <th>Girlfriend While on the Show?</th>\n",
       "      <th>Hair Color</th>\n",
       "      <th>Eye Color</th>\n",
       "    </tr>\n",
       "  </thead>\n",
       "  <tbody>\n",
       "    <tr>\n",
       "      <th>0</th>\n",
       "      <td>15.0</td>\n",
       "      <td>Jed Wyatt</td>\n",
       "      <td>25.0</td>\n",
       "      <td>Sevierville, Tennessee</td>\n",
       "      <td>TN</td>\n",
       "      <td>Belmont University</td>\n",
       "      <td>Singer/Sonwriter</td>\n",
       "      <td>1.0</td>\n",
       "      <td>190.50</td>\n",
       "      <td>Yes</td>\n",
       "      <td>Brown</td>\n",
       "      <td>Brown</td>\n",
       "    </tr>\n",
       "    <tr>\n",
       "      <th>32</th>\n",
       "      <td>14.0</td>\n",
       "      <td>Jason Tartick</td>\n",
       "      <td>29.0</td>\n",
       "      <td>Buffalo, New York</td>\n",
       "      <td>NY</td>\n",
       "      <td>University of Rochester</td>\n",
       "      <td>Senior Corporate Banker</td>\n",
       "      <td>1.0</td>\n",
       "      <td>175.26</td>\n",
       "      <td>No</td>\n",
       "      <td>Brown</td>\n",
       "      <td>Brown</td>\n",
       "    </tr>\n",
       "    <tr>\n",
       "      <th>58</th>\n",
       "      <td>13.0</td>\n",
       "      <td>Bryan Abasolo</td>\n",
       "      <td>37.0</td>\n",
       "      <td>Miami, Florida</td>\n",
       "      <td>FL</td>\n",
       "      <td>University of Florida</td>\n",
       "      <td>Chiropractor</td>\n",
       "      <td>1.0</td>\n",
       "      <td>187.96</td>\n",
       "      <td>No</td>\n",
       "      <td>Brown</td>\n",
       "      <td>Brown</td>\n",
       "    </tr>\n",
       "    <tr>\n",
       "      <th>89</th>\n",
       "      <td>12.0</td>\n",
       "      <td>Jordan Rodgers</td>\n",
       "      <td>27.0</td>\n",
       "      <td>Chico, California</td>\n",
       "      <td>CA</td>\n",
       "      <td>Butte College</td>\n",
       "      <td>Former Pro Quarterback</td>\n",
       "      <td>1.0</td>\n",
       "      <td>187.96</td>\n",
       "      <td>No</td>\n",
       "      <td>Brown</td>\n",
       "      <td>Brown</td>\n",
       "    </tr>\n",
       "    <tr>\n",
       "      <th>115</th>\n",
       "      <td>11.0</td>\n",
       "      <td>Shawn Booth</td>\n",
       "      <td>28.0</td>\n",
       "      <td>Windsor Locks, Connecticut</td>\n",
       "      <td>CT</td>\n",
       "      <td>Keene State College</td>\n",
       "      <td>Personal Trainer</td>\n",
       "      <td>1.0</td>\n",
       "      <td>187.96</td>\n",
       "      <td>No</td>\n",
       "      <td>Brown</td>\n",
       "      <td>Brown</td>\n",
       "    </tr>\n",
       "  </tbody>\n",
       "</table>\n",
       "</div>"
      ],
      "text/plain": [
       "     Season            Name   Age                    Hometown State  \\\n",
       "0      15.0       Jed Wyatt  25.0      Sevierville, Tennessee    TN   \n",
       "32     14.0   Jason Tartick  29.0           Buffalo, New York    NY   \n",
       "58     13.0   Bryan Abasolo  37.0              Miami, Florida    FL   \n",
       "89     12.0  Jordan Rodgers  27.0           Chico, California    CA   \n",
       "115    11.0     Shawn Booth  28.0  Windsor Locks, Connecticut    CT   \n",
       "\n",
       "                     College               Occupation  Win_Loss  Height (cm)  \\\n",
       "0         Belmont University         Singer/Sonwriter       1.0       190.50   \n",
       "32   University of Rochester  Senior Corporate Banker       1.0       175.26   \n",
       "58     University of Florida             Chiropractor       1.0       187.96   \n",
       "89             Butte College   Former Pro Quarterback       1.0       187.96   \n",
       "115      Keene State College         Personal Trainer       1.0       187.96   \n",
       "\n",
       "    Girlfriend While on the Show? Hair Color Eye Color  \n",
       "0                             Yes      Brown     Brown  \n",
       "32                             No      Brown     Brown  \n",
       "58                             No      Brown     Brown  \n",
       "89                             No      Brown     Brown  \n",
       "115                            No      Brown     Brown  "
      ]
     },
     "execution_count": 552,
     "metadata": {},
     "output_type": "execute_result"
    }
   ],
   "source": [
    "df[df['Win_Loss']==1]"
   ]
  },
  {
   "cell_type": "markdown",
   "id": "324046a7",
   "metadata": {},
   "source": [
    "## These are the people who won"
   ]
  },
  {
   "cell_type": "code",
   "execution_count": 553,
   "id": "cad3aebe",
   "metadata": {},
   "outputs": [
    {
     "data": {
      "text/plain": [
       "<AxesSubplot:xlabel='Age', ylabel='count'>"
      ]
     },
     "execution_count": 553,
     "metadata": {},
     "output_type": "execute_result"
    },
    {
     "data": {
      "image/png": "[encoded data removed]",
      "text/plain": [
       "<Figure size 432x288 with 1 Axes>"
      ]
     },
     "metadata": {
      "needs_background": "light"
     },
     "output_type": "display_data"
    }
   ],
   "source": [
    "sns.countplot(x='Age',data=df)"
   ]
  },
  {
   "cell_type": "markdown",
   "id": "a30ebda9",
   "metadata": {},
   "source": [
    "## People in their Late 20s- Early 30s preferred to be a part of the show"
   ]
  },
  {
   "cell_type": "code",
   "execution_count": 555,
   "id": "7e984bb1",
   "metadata": {},
   "outputs": [
    {
     "data": {
      "text/plain": [
       "<AxesSubplot:xlabel='Win_Loss', ylabel='count'>"
      ]
     },
     "execution_count": 555,
     "metadata": {},
     "output_type": "execute_result"
    },
    {
     "data": {
      "image/png": "[encoded data removed]",
      "text/plain": [
       "<Figure size 432x288 with 1 Axes>"
      ]
     },
     "metadata": {
      "needs_background": "light"
     },
     "output_type": "display_data"
    }
   ],
   "source": [
    "sns.countplot(x='Win_Loss',hue='Age',data=df)"
   ]
  },
  {
   "cell_type": "markdown",
   "id": "d1954bf9",
   "metadata": {},
   "source": [
    "## we can say that age isn't really important to win"
   ]
  },
  {
   "cell_type": "code",
   "execution_count": 556,
   "id": "7bcdbe33",
   "metadata": {},
   "outputs": [
    {
     "data": {
      "text/plain": [
       "<AxesSubplot:xlabel='Hair Color', ylabel='count'>"
      ]
     },
     "execution_count": 556,
     "metadata": {},
     "output_type": "execute_result"
    },
    {
     "data": {
      "image/png": "[encoded data removed]",
      "text/plain": [
       "<Figure size 432x288 with 1 Axes>"
      ]
     },
     "metadata": {
      "needs_background": "light"
     },
     "output_type": "display_data"
    }
   ],
   "source": [
    "sns.countplot(x='Hair Color',data=df)"
   ]
  },
  {
   "cell_type": "code",
   "execution_count": 557,
   "id": "b50f0d76",
   "metadata": {},
   "outputs": [
    {
     "data": {
      "text/plain": [
       "<AxesSubplot:xlabel='Win_Loss', ylabel='count'>"
      ]
     },
     "execution_count": 557,
     "metadata": {},
     "output_type": "execute_result"
    },
    {
     "data": {
      "image/png": "[encoded data removed]",
      "text/plain": [
       "<Figure size 432x288 with 1 Axes>"
      ]
     },
     "metadata": {
      "needs_background": "light"
     },
     "output_type": "display_data"
    }
   ],
   "source": [
    "sns.countplot(x='Win_Loss',hue='Hair Color',data=df)"
   ]
  },
  {
   "cell_type": "markdown",
   "id": "00542ac5",
   "metadata": {},
   "source": [
    "## We can say that women preferred men with brown hair."
   ]
  },
  {
   "cell_type": "code",
   "execution_count": 558,
   "id": "5ac3359b",
   "metadata": {},
   "outputs": [
    {
     "data": {
      "text/plain": [
       "<AxesSubplot:xlabel='Eye Color', ylabel='count'>"
      ]
     },
     "execution_count": 558,
     "metadata": {},
     "output_type": "execute_result"
    },
    {
     "data": {
      "image/png": "[encoded data removed]",
      "text/plain": [
       "<Figure size 432x288 with 1 Axes>"
      ]
     },
     "metadata": {
      "needs_background": "light"
     },
     "output_type": "display_data"
    }
   ],
   "source": [
    "sns.countplot(x='Eye Color',data=df)"
   ]
  },
  {
   "cell_type": "code",
   "execution_count": 559,
   "id": "8e35d77c",
   "metadata": {},
   "outputs": [
    {
     "data": {
      "text/plain": [
       "<AxesSubplot:xlabel='Win_Loss', ylabel='count'>"
      ]
     },
     "execution_count": 559,
     "metadata": {},
     "output_type": "execute_result"
    },
    {
     "data": {
      "image/png": "[encoded data removed]",
      "text/plain": [
       "<Figure size 432x288 with 1 Axes>"
      ]
     },
     "metadata": {
      "needs_background": "light"
     },
     "output_type": "display_data"
    }
   ],
   "source": [
    "sns.countplot(x='Win_Loss',hue='Eye Color',data=df)"
   ]
  },
  {
   "cell_type": "markdown",
   "id": "e50e5a32",
   "metadata": {},
   "source": [
    "## We can say that women preferred men with brown eyes."
   ]
  },
  {
   "cell_type": "code",
   "execution_count": 560,
   "id": "3c662114",
   "metadata": {},
   "outputs": [
    {
     "data": {
      "text/plain": [
       "<AxesSubplot:xlabel='count', ylabel='Win_Loss'>"
      ]
     },
     "execution_count": 560,
     "metadata": {},
     "output_type": "execute_result"
    },
    {
     "data": {
      "image/png": "[encoded data removed]",
      "text/plain": [
       "<Figure size 432x288 with 1 Axes>"
      ]
     },
     "metadata": {
      "needs_background": "light"
     },
     "output_type": "display_data"
    }
   ],
   "source": [
    "sns.countplot(y='Win_Loss',hue='State',data=df)"
   ]
  },
  {
   "cell_type": "markdown",
   "id": "8b49ba9b",
   "metadata": {},
   "source": [
    "##  We can say that  winning didn't depend on the State"
   ]
  },
  {
   "cell_type": "code",
   "execution_count": 561,
   "id": "02925d06",
   "metadata": {},
   "outputs": [
    {
     "data": {
      "text/plain": [
       "<AxesSubplot:xlabel='count', ylabel='Win_Loss'>"
      ]
     },
     "execution_count": 561,
     "metadata": {},
     "output_type": "execute_result"
    },
    {
     "data": {
      "image/png": "[encoded data removed]",
      "text/plain": [
       "<Figure size 432x288 with 1 Axes>"
      ]
     },
     "metadata": {
      "needs_background": "light"
     },
     "output_type": "display_data"
    }
   ],
   "source": [
    "sns.countplot(y='Win_Loss',hue='College',data=df)"
   ]
  },
  {
   "cell_type": "markdown",
   "id": "49e693e7",
   "metadata": {},
   "source": [
    "## We can say that winning didn't really depend on the college."
   ]
  },
  {
   "cell_type": "code",
   "execution_count": 562,
   "id": "51a60958",
   "metadata": {},
   "outputs": [
    {
     "data": {
      "text/plain": [
       "<AxesSubplot:xlabel='Win_Loss', ylabel='Occupation'>"
      ]
     },
     "execution_count": 562,
     "metadata": {},
     "output_type": "execute_result"
    },
    {
     "data": {
      "image/png": "[encoded data removed]",
      "text/plain": [
       "<Figure size 432x288 with 1 Axes>"
      ]
     },
     "metadata": {
      "needs_background": "light"
     },
     "output_type": "display_data"
    }
   ],
   "source": [
    "sns.scatterplot(x='Win_Loss',y='Occupation',size='Win_Loss',data=df)"
   ]
  },
  {
   "cell_type": "markdown",
   "id": "f9d5d013",
   "metadata": {},
   "source": [
    "## Winning doesn't really depend on the occupation either"
   ]
  },
  {
   "cell_type": "code",
   "execution_count": 563,
   "id": "541fe6ba",
   "metadata": {},
   "outputs": [
    {
     "data": {
      "text/plain": [
       "<AxesSubplot:xlabel='Height (cm)', ylabel='count'>"
      ]
     },
     "execution_count": 563,
     "metadata": {},
     "output_type": "execute_result"
    },
    {
     "data": {
      "image/png": "[encoded data removed]",
      "text/plain": [
       "<Figure size 432x288 with 1 Axes>"
      ]
     },
     "metadata": {
      "needs_background": "light"
     },
     "output_type": "display_data"
    }
   ],
   "source": [
    "sns.countplot(x= 'Height (cm)',data=df)"
   ]
  },
  {
   "cell_type": "code",
   "execution_count": 564,
   "id": "ce87a65f",
   "metadata": {},
   "outputs": [
    {
     "data": {
      "text/plain": [
       "<AxesSubplot:xlabel='count', ylabel='Win_Loss'>"
      ]
     },
     "execution_count": 564,
     "metadata": {},
     "output_type": "execute_result"
    },
    {
     "data": {
      "image/png": "[encoded data removed]",
      "text/plain": [
       "<Figure size 432x288 with 1 Axes>"
      ]
     },
     "metadata": {
      "needs_background": "light"
     },
     "output_type": "display_data"
    }
   ],
   "source": [
    "sns.countplot(y='Win_Loss',hue='Height (cm)',data=df)"
   ]
  },
  {
   "cell_type": "markdown",
   "id": "3f7d93e6",
   "metadata": {},
   "source": [
    "## Women usually prefer men above the height of 175cm which is pretty tall for a man."
   ]
  },
  {
   "cell_type": "code",
   "execution_count": 565,
   "id": "55961100",
   "metadata": {},
   "outputs": [
    {
     "data": {
      "text/plain": [
       "<AxesSubplot:xlabel='Win_Loss', ylabel='count'>"
      ]
     },
     "execution_count": 565,
     "metadata": {},
     "output_type": "execute_result"
    },
    {
     "data": {
      "image/png": "[encoded data removed]",
      "text/plain": [
       "<Figure size 432x288 with 1 Axes>"
      ]
     },
     "metadata": {
      "needs_background": "light"
     },
     "output_type": "display_data"
    }
   ],
   "source": [
    "sns.countplot(x='Win_Loss',hue='Girlfriend While on the Show?',data=df)"
   ]
  },
  {
   "cell_type": "code",
   "execution_count": 566,
   "id": "59063cf3",
   "metadata": {},
   "outputs": [
    {
     "data": {
      "text/plain": [
       "No     138\n",
       "Yes      3\n",
       "Name: Girlfriend While on the Show?, dtype: int64"
      ]
     },
     "execution_count": 566,
     "metadata": {},
     "output_type": "execute_result"
    }
   ],
   "source": [
    "df['Girlfriend While on the Show?'].value_counts()"
   ]
  },
  {
   "cell_type": "markdown",
   "id": "594bfbad",
   "metadata": {},
   "source": [
    "## It didn't really matter if they had a girlfriend on the show"
   ]
  },
  {
   "cell_type": "markdown",
   "id": "1636187a",
   "metadata": {},
   "source": [
    "#  Data Cleaning"
   ]
  },
  {
   "cell_type": "code",
   "execution_count": 593,
   "id": "745ff3fc",
   "metadata": {},
   "outputs": [
    {
     "data": {
      "text/plain": [
       "<AxesSubplot:>"
      ]
     },
     "execution_count": 593,
     "metadata": {},
     "output_type": "execute_result"
    },
    {
     "data": {
      "image/png": "[encoded data removed]",
      "text/plain": [
       "<Figure size 432x288 with 2 Axes>"
      ]
     },
     "metadata": {
      "needs_background": "light"
     },
     "output_type": "display_data"
    }
   ],
   "source": [
    "sns.heatmap(df.isnull())"
   ]
  },
  {
   "cell_type": "markdown",
   "id": "6f9ec632",
   "metadata": {},
   "source": [
    "## All the columns have null values and need to be cleaned.\n"
   ]
  },
  {
   "cell_type": "code",
   "execution_count": 594,
   "id": "20c5e1f7",
   "metadata": {},
   "outputs": [],
   "source": [
    "df = df[~df['Name'].isnull()]  "
   ]
  },
  {
   "cell_type": "markdown",
   "id": "59d860ea",
   "metadata": {},
   "source": [
    "## Dropping all the rows with no name."
   ]
  },
  {
   "cell_type": "code",
   "execution_count": 595,
   "id": "f4a368fe",
   "metadata": {},
   "outputs": [
    {
     "data": {
      "text/plain": [
       "0      190.0\n",
       "1      188.0\n",
       "2      175.0\n",
       "3      175.0\n",
       "4        NaN\n",
       "       ...  \n",
       "136      NaN\n",
       "137    188.0\n",
       "138      NaN\n",
       "139    188.0\n",
       "140    190.0\n",
       "Name: Height (cm), Length: 141, dtype: float64"
      ]
     },
     "execution_count": 595,
     "metadata": {},
     "output_type": "execute_result"
    }
   ],
   "source": [
    "df['Height (cm)'].round(decimals=0)"
   ]
  },
  {
   "cell_type": "code",
   "execution_count": 596,
   "id": "1665a4b6",
   "metadata": {},
   "outputs": [],
   "source": [
    "for col in ['Height (cm)']:\n",
    "    df[col].fillna(df[col].mean(), inplace = True)"
   ]
  },
  {
   "cell_type": "markdown",
   "id": "d5c3d880",
   "metadata": {},
   "source": [
    "## Filled att the missing heights with the mean of all heights. "
   ]
  },
  {
   "cell_type": "code",
   "execution_count": 597,
   "id": "346f8e48",
   "metadata": {},
   "outputs": [
    {
     "data": {
      "text/plain": [
       "Season                           0\n",
       "Name                             0\n",
       "Age                              0\n",
       "Hometown                         0\n",
       "State                            0\n",
       "College                          1\n",
       "Occupation                       0\n",
       "Win_Loss                         0\n",
       "Height (cm)                      0\n",
       "Girlfriend While on the Show?    0\n",
       "Hair Color                       0\n",
       "Eye Color                        0\n",
       "dtype: int64"
      ]
     },
     "execution_count": 597,
     "metadata": {},
     "output_type": "execute_result"
    }
   ],
   "source": [
    "df.isnull().sum()"
   ]
  },
  {
   "cell_type": "code",
   "execution_count": 598,
   "id": "91ecc740",
   "metadata": {},
   "outputs": [],
   "source": [
    "df.loc[df['College'].isnull(),'College'] = df['College'].value_counts().index[0] "
   ]
  },
  {
   "cell_type": "markdown",
   "id": "3611d868",
   "metadata": {},
   "source": [
    "## Filling the missing college with the most common College"
   ]
  },
  {
   "cell_type": "code",
   "execution_count": 599,
   "id": "9f862868",
   "metadata": {},
   "outputs": [
    {
     "data": {
      "text/plain": [
       "Season                           0\n",
       "Name                             0\n",
       "Age                              0\n",
       "Hometown                         0\n",
       "State                            0\n",
       "College                          0\n",
       "Occupation                       0\n",
       "Win_Loss                         0\n",
       "Height (cm)                      0\n",
       "Girlfriend While on the Show?    0\n",
       "Hair Color                       0\n",
       "Eye Color                        0\n",
       "dtype: int64"
      ]
     },
     "execution_count": 599,
     "metadata": {},
     "output_type": "execute_result"
    }
   ],
   "source": [
    "df.isnull().sum()"
   ]
  },
  {
   "cell_type": "markdown",
   "id": "c293a78c",
   "metadata": {},
   "source": [
    "## We have got no null values now. "
   ]
  },
  {
   "cell_type": "code",
   "execution_count": 600,
   "id": "cb479164",
   "metadata": {},
   "outputs": [
    {
     "name": "stdout",
     "output_type": "stream",
     "text": [
      "115\n",
      "126\n",
      "88\n",
      "32\n"
     ]
    }
   ],
   "source": [
    "print(df['Hometown'].nunique())\n",
    "print(df['Occupation'].nunique())\n",
    "print(df['College'].nunique())\n",
    "print(df['State'].nunique())"
   ]
  },
  {
   "cell_type": "code",
   "execution_count": 601,
   "id": "3253e73d",
   "metadata": {},
   "outputs": [],
   "source": [
    "df.drop(['Hometown','Occupation','College'],axis=1,inplace=True)"
   ]
  },
  {
   "cell_type": "code",
   "execution_count": 602,
   "id": "32d56526",
   "metadata": {},
   "outputs": [
    {
     "data": {
      "text/html": [
       "<div>\n",
       "<style scoped>\n",
       "    .dataframe tbody tr th:only-of-type {\n",
       "        vertical-align: middle;\n",
       "    }\n",
       "\n",
       "    .dataframe tbody tr th {\n",
       "        vertical-align: top;\n",
       "    }\n",
       "\n",
       "    .dataframe thead th {\n",
       "        text-align: right;\n",
       "    }\n",
       "</style>\n",
       "<table border=\"1\" class=\"dataframe\">\n",
       "  <thead>\n",
       "    <tr style=\"text-align: right;\">\n",
       "      <th></th>\n",
       "      <th>Season</th>\n",
       "      <th>Name</th>\n",
       "      <th>Age</th>\n",
       "      <th>State</th>\n",
       "      <th>Win_Loss</th>\n",
       "      <th>Height (cm)</th>\n",
       "      <th>Girlfriend While on the Show?</th>\n",
       "      <th>Hair Color</th>\n",
       "      <th>Eye Color</th>\n",
       "    </tr>\n",
       "  </thead>\n",
       "  <tbody>\n",
       "    <tr>\n",
       "      <th>0</th>\n",
       "      <td>15.0</td>\n",
       "      <td>Jed Wyatt</td>\n",
       "      <td>25.0</td>\n",
       "      <td>TN</td>\n",
       "      <td>1.0</td>\n",
       "      <td>190.500000</td>\n",
       "      <td>Yes</td>\n",
       "      <td>Brown</td>\n",
       "      <td>Brown</td>\n",
       "    </tr>\n",
       "    <tr>\n",
       "      <th>1</th>\n",
       "      <td>15.0</td>\n",
       "      <td>Tyler Cameron</td>\n",
       "      <td>26.0</td>\n",
       "      <td>FL</td>\n",
       "      <td>0.0</td>\n",
       "      <td>187.960000</td>\n",
       "      <td>No</td>\n",
       "      <td>Brown</td>\n",
       "      <td>Green</td>\n",
       "    </tr>\n",
       "    <tr>\n",
       "      <th>2</th>\n",
       "      <td>15.0</td>\n",
       "      <td>Peter Weber</td>\n",
       "      <td>27.0</td>\n",
       "      <td>CA</td>\n",
       "      <td>0.0</td>\n",
       "      <td>175.250000</td>\n",
       "      <td>No</td>\n",
       "      <td>Brown</td>\n",
       "      <td>Brown</td>\n",
       "    </tr>\n",
       "    <tr>\n",
       "      <th>3</th>\n",
       "      <td>15.0</td>\n",
       "      <td>Luke Parker</td>\n",
       "      <td>24.0</td>\n",
       "      <td>GA</td>\n",
       "      <td>0.0</td>\n",
       "      <td>175.000000</td>\n",
       "      <td>No</td>\n",
       "      <td>Blonde</td>\n",
       "      <td>Brown</td>\n",
       "    </tr>\n",
       "    <tr>\n",
       "      <th>4</th>\n",
       "      <td>15.0</td>\n",
       "      <td>Garrett Powell</td>\n",
       "      <td>27.0</td>\n",
       "      <td>AL</td>\n",
       "      <td>0.0</td>\n",
       "      <td>184.799802</td>\n",
       "      <td>No</td>\n",
       "      <td>Brown</td>\n",
       "      <td>Green</td>\n",
       "    </tr>\n",
       "  </tbody>\n",
       "</table>\n",
       "</div>"
      ],
      "text/plain": [
       "   Season            Name   Age State  Win_Loss  Height (cm)  \\\n",
       "0    15.0       Jed Wyatt  25.0    TN       1.0   190.500000   \n",
       "1    15.0   Tyler Cameron  26.0    FL       0.0   187.960000   \n",
       "2    15.0     Peter Weber  27.0    CA       0.0   175.250000   \n",
       "3    15.0     Luke Parker  24.0    GA       0.0   175.000000   \n",
       "4    15.0  Garrett Powell  27.0    AL       0.0   184.799802   \n",
       "\n",
       "  Girlfriend While on the Show? Hair Color Eye Color  \n",
       "0                           Yes      Brown     Brown  \n",
       "1                            No      Brown     Green  \n",
       "2                            No      Brown     Brown  \n",
       "3                            No     Blonde     Brown  \n",
       "4                            No      Brown     Green  "
      ]
     },
     "execution_count": 602,
     "metadata": {},
     "output_type": "execute_result"
    }
   ],
   "source": [
    "df.head()"
   ]
  },
  {
   "cell_type": "code",
   "execution_count": 604,
   "id": "71c65025",
   "metadata": {},
   "outputs": [],
   "source": [
    "df.drop(['Name','State'],axis=1,inplace = True)"
   ]
  },
  {
   "cell_type": "markdown",
   "id": "bd52226e",
   "metadata": {},
   "source": [
    "## We dropped columns that have almost no common values. "
   ]
  },
  {
   "cell_type": "code",
   "execution_count": 605,
   "id": "333e17ab",
   "metadata": {},
   "outputs": [
    {
     "data": {
      "text/html": [
       "<div>\n",
       "<style scoped>\n",
       "    .dataframe tbody tr th:only-of-type {\n",
       "        vertical-align: middle;\n",
       "    }\n",
       "\n",
       "    .dataframe tbody tr th {\n",
       "        vertical-align: top;\n",
       "    }\n",
       "\n",
       "    .dataframe thead th {\n",
       "        text-align: right;\n",
       "    }\n",
       "</style>\n",
       "<table border=\"1\" class=\"dataframe\">\n",
       "  <thead>\n",
       "    <tr style=\"text-align: right;\">\n",
       "      <th></th>\n",
       "      <th>Season</th>\n",
       "      <th>Age</th>\n",
       "      <th>Win_Loss</th>\n",
       "      <th>Height (cm)</th>\n",
       "      <th>Girlfriend While on the Show?</th>\n",
       "      <th>Hair Color</th>\n",
       "      <th>Eye Color</th>\n",
       "    </tr>\n",
       "  </thead>\n",
       "  <tbody>\n",
       "    <tr>\n",
       "      <th>0</th>\n",
       "      <td>15.0</td>\n",
       "      <td>25.0</td>\n",
       "      <td>1.0</td>\n",
       "      <td>190.500000</td>\n",
       "      <td>Yes</td>\n",
       "      <td>Brown</td>\n",
       "      <td>Brown</td>\n",
       "    </tr>\n",
       "    <tr>\n",
       "      <th>1</th>\n",
       "      <td>15.0</td>\n",
       "      <td>26.0</td>\n",
       "      <td>0.0</td>\n",
       "      <td>187.960000</td>\n",
       "      <td>No</td>\n",
       "      <td>Brown</td>\n",
       "      <td>Green</td>\n",
       "    </tr>\n",
       "    <tr>\n",
       "      <th>2</th>\n",
       "      <td>15.0</td>\n",
       "      <td>27.0</td>\n",
       "      <td>0.0</td>\n",
       "      <td>175.250000</td>\n",
       "      <td>No</td>\n",
       "      <td>Brown</td>\n",
       "      <td>Brown</td>\n",
       "    </tr>\n",
       "    <tr>\n",
       "      <th>3</th>\n",
       "      <td>15.0</td>\n",
       "      <td>24.0</td>\n",
       "      <td>0.0</td>\n",
       "      <td>175.000000</td>\n",
       "      <td>No</td>\n",
       "      <td>Blonde</td>\n",
       "      <td>Brown</td>\n",
       "    </tr>\n",
       "    <tr>\n",
       "      <th>4</th>\n",
       "      <td>15.0</td>\n",
       "      <td>27.0</td>\n",
       "      <td>0.0</td>\n",
       "      <td>184.799802</td>\n",
       "      <td>No</td>\n",
       "      <td>Brown</td>\n",
       "      <td>Green</td>\n",
       "    </tr>\n",
       "  </tbody>\n",
       "</table>\n",
       "</div>"
      ],
      "text/plain": [
       "   Season   Age  Win_Loss  Height (cm) Girlfriend While on the Show?  \\\n",
       "0    15.0  25.0       1.0   190.500000                           Yes   \n",
       "1    15.0  26.0       0.0   187.960000                            No   \n",
       "2    15.0  27.0       0.0   175.250000                            No   \n",
       "3    15.0  24.0       0.0   175.000000                            No   \n",
       "4    15.0  27.0       0.0   184.799802                            No   \n",
       "\n",
       "  Hair Color Eye Color  \n",
       "0      Brown     Brown  \n",
       "1      Brown     Green  \n",
       "2      Brown     Brown  \n",
       "3     Blonde     Brown  \n",
       "4      Brown     Green  "
      ]
     },
     "execution_count": 605,
     "metadata": {},
     "output_type": "execute_result"
    }
   ],
   "source": [
    "df.head()"
   ]
  },
  {
   "cell_type": "code",
   "execution_count": 606,
   "id": "a96c1bb7",
   "metadata": {},
   "outputs": [
    {
     "name": "stdout",
     "output_type": "stream",
     "text": [
      "<class 'pandas.core.frame.DataFrame'>\n",
      "Int64Index: 141 entries, 0 to 140\n",
      "Data columns (total 7 columns):\n",
      " #   Column                         Non-Null Count  Dtype  \n",
      "---  ------                         --------------  -----  \n",
      " 0   Season                         141 non-null    float64\n",
      " 1   Age                            141 non-null    float64\n",
      " 2   Win_Loss                       141 non-null    float64\n",
      " 3   Height (cm)                    141 non-null    float64\n",
      " 4   Girlfriend While on the Show?  141 non-null    object \n",
      " 5   Hair Color                     141 non-null    object \n",
      " 6   Eye Color                      141 non-null    object \n",
      "dtypes: float64(4), object(3)\n",
      "memory usage: 8.8+ KB\n"
     ]
    }
   ],
   "source": [
    "df.info()"
   ]
  },
  {
   "cell_type": "code",
   "execution_count": 607,
   "id": "d6bd6cbe",
   "metadata": {},
   "outputs": [
    {
     "data": {
      "text/plain": [
       "<AxesSubplot:>"
      ]
     },
     "execution_count": 607,
     "metadata": {},
     "output_type": "execute_result"
    },
    {
     "data": {
      "image/png": "[encoded data removed]",
      "text/plain": [
       "<Figure size 432x288 with 2 Axes>"
      ]
     },
     "metadata": {
      "needs_background": "light"
     },
     "output_type": "display_data"
    }
   ],
   "source": [
    "sns.heatmap(df.isnull())"
   ]
  },
  {
   "cell_type": "markdown",
   "id": "452ae563",
   "metadata": {},
   "source": [
    "## The data is now cleaned and we can move on to building our model. "
   ]
  },
  {
   "cell_type": "markdown",
   "id": "72d522fb",
   "metadata": {},
   "source": [
    "# Converting categorial values"
   ]
  },
  {
   "cell_type": "markdown",
   "id": "4f01c8e9",
   "metadata": {},
   "source": [
    "## Now, we convert the categorical values to variables, so we can use them as inputs."
   ]
  },
  {
   "cell_type": "code",
   "execution_count": 609,
   "id": "44da7dec",
   "metadata": {},
   "outputs": [
    {
     "data": {
      "text/html": [
       "<div>\n",
       "<style scoped>\n",
       "    .dataframe tbody tr th:only-of-type {\n",
       "        vertical-align: middle;\n",
       "    }\n",
       "\n",
       "    .dataframe tbody tr th {\n",
       "        vertical-align: top;\n",
       "    }\n",
       "\n",
       "    .dataframe thead th {\n",
       "        text-align: right;\n",
       "    }\n",
       "</style>\n",
       "<table border=\"1\" class=\"dataframe\">\n",
       "  <thead>\n",
       "    <tr style=\"text-align: right;\">\n",
       "      <th></th>\n",
       "      <th>Brown</th>\n",
       "    </tr>\n",
       "  </thead>\n",
       "  <tbody>\n",
       "    <tr>\n",
       "      <th>0</th>\n",
       "      <td>1</td>\n",
       "    </tr>\n",
       "    <tr>\n",
       "      <th>1</th>\n",
       "      <td>1</td>\n",
       "    </tr>\n",
       "    <tr>\n",
       "      <th>2</th>\n",
       "      <td>1</td>\n",
       "    </tr>\n",
       "    <tr>\n",
       "      <th>3</th>\n",
       "      <td>0</td>\n",
       "    </tr>\n",
       "    <tr>\n",
       "      <th>4</th>\n",
       "      <td>1</td>\n",
       "    </tr>\n",
       "  </tbody>\n",
       "</table>\n",
       "</div>"
      ],
      "text/plain": [
       "   Brown\n",
       "0      1\n",
       "1      1\n",
       "2      1\n",
       "3      0\n",
       "4      1"
      ]
     },
     "execution_count": 609,
     "metadata": {},
     "output_type": "execute_result"
    }
   ],
   "source": [
    "pd.get_dummies(df['Hair Color'],drop_first=True).head()"
   ]
  },
  {
   "cell_type": "code",
   "execution_count": 610,
   "id": "7fad5163",
   "metadata": {},
   "outputs": [
    {
     "data": {
      "text/html": [
       "<div>\n",
       "<style scoped>\n",
       "    .dataframe tbody tr th:only-of-type {\n",
       "        vertical-align: middle;\n",
       "    }\n",
       "\n",
       "    .dataframe tbody tr th {\n",
       "        vertical-align: top;\n",
       "    }\n",
       "\n",
       "    .dataframe thead th {\n",
       "        text-align: right;\n",
       "    }\n",
       "</style>\n",
       "<table border=\"1\" class=\"dataframe\">\n",
       "  <thead>\n",
       "    <tr style=\"text-align: right;\">\n",
       "      <th></th>\n",
       "      <th>Yes</th>\n",
       "    </tr>\n",
       "  </thead>\n",
       "  <tbody>\n",
       "    <tr>\n",
       "      <th>0</th>\n",
       "      <td>1</td>\n",
       "    </tr>\n",
       "    <tr>\n",
       "      <th>1</th>\n",
       "      <td>0</td>\n",
       "    </tr>\n",
       "    <tr>\n",
       "      <th>2</th>\n",
       "      <td>0</td>\n",
       "    </tr>\n",
       "    <tr>\n",
       "      <th>3</th>\n",
       "      <td>0</td>\n",
       "    </tr>\n",
       "    <tr>\n",
       "      <th>4</th>\n",
       "      <td>0</td>\n",
       "    </tr>\n",
       "  </tbody>\n",
       "</table>\n",
       "</div>"
      ],
      "text/plain": [
       "   Yes\n",
       "0    1\n",
       "1    0\n",
       "2    0\n",
       "3    0\n",
       "4    0"
      ]
     },
     "execution_count": 610,
     "metadata": {},
     "output_type": "execute_result"
    }
   ],
   "source": [
    "pd.get_dummies(df['Girlfriend While on the Show?'],drop_first=True).head()"
   ]
  },
  {
   "cell_type": "code",
   "execution_count": 611,
   "id": "41a986c2",
   "metadata": {},
   "outputs": [
    {
     "data": {
      "text/html": [
       "<div>\n",
       "<style scoped>\n",
       "    .dataframe tbody tr th:only-of-type {\n",
       "        vertical-align: middle;\n",
       "    }\n",
       "\n",
       "    .dataframe tbody tr th {\n",
       "        vertical-align: top;\n",
       "    }\n",
       "\n",
       "    .dataframe thead th {\n",
       "        text-align: right;\n",
       "    }\n",
       "</style>\n",
       "<table border=\"1\" class=\"dataframe\">\n",
       "  <thead>\n",
       "    <tr style=\"text-align: right;\">\n",
       "      <th></th>\n",
       "      <th>Brown</th>\n",
       "      <th>Green</th>\n",
       "    </tr>\n",
       "  </thead>\n",
       "  <tbody>\n",
       "    <tr>\n",
       "      <th>0</th>\n",
       "      <td>1</td>\n",
       "      <td>0</td>\n",
       "    </tr>\n",
       "    <tr>\n",
       "      <th>1</th>\n",
       "      <td>0</td>\n",
       "      <td>1</td>\n",
       "    </tr>\n",
       "    <tr>\n",
       "      <th>2</th>\n",
       "      <td>1</td>\n",
       "      <td>0</td>\n",
       "    </tr>\n",
       "    <tr>\n",
       "      <th>3</th>\n",
       "      <td>1</td>\n",
       "      <td>0</td>\n",
       "    </tr>\n",
       "    <tr>\n",
       "      <th>4</th>\n",
       "      <td>0</td>\n",
       "      <td>1</td>\n",
       "    </tr>\n",
       "  </tbody>\n",
       "</table>\n",
       "</div>"
      ],
      "text/plain": [
       "   Brown  Green\n",
       "0      1      0\n",
       "1      0      1\n",
       "2      1      0\n",
       "3      1      0\n",
       "4      0      1"
      ]
     },
     "execution_count": 611,
     "metadata": {},
     "output_type": "execute_result"
    }
   ],
   "source": [
    "pd.get_dummies(df['Eye Color'],drop_first=True).head()"
   ]
  },
  {
   "cell_type": "code",
   "execution_count": 612,
   "id": "7007b001",
   "metadata": {},
   "outputs": [],
   "source": [
    "Girlfriend = pd.get_dummies(df['Girlfriend While on the Show?'],drop_first=True)\n",
    "Eye_Color = pd.get_dummies(df['Eye Color'],drop_first=True)\n",
    "Hair_Color= pd.get_dummies(df['Hair Color'],drop_first=True)"
   ]
  },
  {
   "cell_type": "code",
   "execution_count": 613,
   "id": "0ed487fd",
   "metadata": {},
   "outputs": [],
   "source": [
    "df.drop(['Girlfriend While on the Show?','Hair Color','Eye Color'],axis=1,inplace=True)"
   ]
  },
  {
   "cell_type": "code",
   "execution_count": 614,
   "id": "b8571cb4",
   "metadata": {},
   "outputs": [
    {
     "data": {
      "text/html": [
       "<div>\n",
       "<style scoped>\n",
       "    .dataframe tbody tr th:only-of-type {\n",
       "        vertical-align: middle;\n",
       "    }\n",
       "\n",
       "    .dataframe tbody tr th {\n",
       "        vertical-align: top;\n",
       "    }\n",
       "\n",
       "    .dataframe thead th {\n",
       "        text-align: right;\n",
       "    }\n",
       "</style>\n",
       "<table border=\"1\" class=\"dataframe\">\n",
       "  <thead>\n",
       "    <tr style=\"text-align: right;\">\n",
       "      <th></th>\n",
       "      <th>Season</th>\n",
       "      <th>Age</th>\n",
       "      <th>Win_Loss</th>\n",
       "      <th>Height (cm)</th>\n",
       "    </tr>\n",
       "  </thead>\n",
       "  <tbody>\n",
       "    <tr>\n",
       "      <th>0</th>\n",
       "      <td>15.0</td>\n",
       "      <td>25.0</td>\n",
       "      <td>1.0</td>\n",
       "      <td>190.500000</td>\n",
       "    </tr>\n",
       "    <tr>\n",
       "      <th>1</th>\n",
       "      <td>15.0</td>\n",
       "      <td>26.0</td>\n",
       "      <td>0.0</td>\n",
       "      <td>187.960000</td>\n",
       "    </tr>\n",
       "    <tr>\n",
       "      <th>2</th>\n",
       "      <td>15.0</td>\n",
       "      <td>27.0</td>\n",
       "      <td>0.0</td>\n",
       "      <td>175.250000</td>\n",
       "    </tr>\n",
       "    <tr>\n",
       "      <th>3</th>\n",
       "      <td>15.0</td>\n",
       "      <td>24.0</td>\n",
       "      <td>0.0</td>\n",
       "      <td>175.000000</td>\n",
       "    </tr>\n",
       "    <tr>\n",
       "      <th>4</th>\n",
       "      <td>15.0</td>\n",
       "      <td>27.0</td>\n",
       "      <td>0.0</td>\n",
       "      <td>184.799802</td>\n",
       "    </tr>\n",
       "  </tbody>\n",
       "</table>\n",
       "</div>"
      ],
      "text/plain": [
       "   Season   Age  Win_Loss  Height (cm)\n",
       "0    15.0  25.0       1.0   190.500000\n",
       "1    15.0  26.0       0.0   187.960000\n",
       "2    15.0  27.0       0.0   175.250000\n",
       "3    15.0  24.0       0.0   175.000000\n",
       "4    15.0  27.0       0.0   184.799802"
      ]
     },
     "execution_count": 614,
     "metadata": {},
     "output_type": "execute_result"
    }
   ],
   "source": [
    "df.head()"
   ]
  },
  {
   "cell_type": "code",
   "execution_count": 615,
   "id": "7041092e",
   "metadata": {},
   "outputs": [],
   "source": [
    "df = pd.concat([df, Girlfriend,Hair_Color,Eye_Color],axis=1)"
   ]
  },
  {
   "cell_type": "code",
   "execution_count": 616,
   "id": "d1ba9cd2",
   "metadata": {},
   "outputs": [
    {
     "data": {
      "text/html": [
       "<div>\n",
       "<style scoped>\n",
       "    .dataframe tbody tr th:only-of-type {\n",
       "        vertical-align: middle;\n",
       "    }\n",
       "\n",
       "    .dataframe tbody tr th {\n",
       "        vertical-align: top;\n",
       "    }\n",
       "\n",
       "    .dataframe thead th {\n",
       "        text-align: right;\n",
       "    }\n",
       "</style>\n",
       "<table border=\"1\" class=\"dataframe\">\n",
       "  <thead>\n",
       "    <tr style=\"text-align: right;\">\n",
       "      <th></th>\n",
       "      <th>Season</th>\n",
       "      <th>Age</th>\n",
       "      <th>Win_Loss</th>\n",
       "      <th>Height (cm)</th>\n",
       "      <th>Yes</th>\n",
       "      <th>Brown</th>\n",
       "      <th>Brown</th>\n",
       "      <th>Green</th>\n",
       "    </tr>\n",
       "  </thead>\n",
       "  <tbody>\n",
       "    <tr>\n",
       "      <th>0</th>\n",
       "      <td>15.0</td>\n",
       "      <td>25.0</td>\n",
       "      <td>1.0</td>\n",
       "      <td>190.500000</td>\n",
       "      <td>1</td>\n",
       "      <td>1</td>\n",
       "      <td>1</td>\n",
       "      <td>0</td>\n",
       "    </tr>\n",
       "    <tr>\n",
       "      <th>1</th>\n",
       "      <td>15.0</td>\n",
       "      <td>26.0</td>\n",
       "      <td>0.0</td>\n",
       "      <td>187.960000</td>\n",
       "      <td>0</td>\n",
       "      <td>1</td>\n",
       "      <td>0</td>\n",
       "      <td>1</td>\n",
       "    </tr>\n",
       "    <tr>\n",
       "      <th>2</th>\n",
       "      <td>15.0</td>\n",
       "      <td>27.0</td>\n",
       "      <td>0.0</td>\n",
       "      <td>175.250000</td>\n",
       "      <td>0</td>\n",
       "      <td>1</td>\n",
       "      <td>1</td>\n",
       "      <td>0</td>\n",
       "    </tr>\n",
       "    <tr>\n",
       "      <th>3</th>\n",
       "      <td>15.0</td>\n",
       "      <td>24.0</td>\n",
       "      <td>0.0</td>\n",
       "      <td>175.000000</td>\n",
       "      <td>0</td>\n",
       "      <td>0</td>\n",
       "      <td>1</td>\n",
       "      <td>0</td>\n",
       "    </tr>\n",
       "    <tr>\n",
       "      <th>4</th>\n",
       "      <td>15.0</td>\n",
       "      <td>27.0</td>\n",
       "      <td>0.0</td>\n",
       "      <td>184.799802</td>\n",
       "      <td>0</td>\n",
       "      <td>1</td>\n",
       "      <td>0</td>\n",
       "      <td>1</td>\n",
       "    </tr>\n",
       "  </tbody>\n",
       "</table>\n",
       "</div>"
      ],
      "text/plain": [
       "   Season   Age  Win_Loss  Height (cm)  Yes  Brown  Brown  Green\n",
       "0    15.0  25.0       1.0   190.500000    1      1      1      0\n",
       "1    15.0  26.0       0.0   187.960000    0      1      0      1\n",
       "2    15.0  27.0       0.0   175.250000    0      1      1      0\n",
       "3    15.0  24.0       0.0   175.000000    0      0      1      0\n",
       "4    15.0  27.0       0.0   184.799802    0      1      0      1"
      ]
     },
     "execution_count": 616,
     "metadata": {},
     "output_type": "execute_result"
    }
   ],
   "source": [
    "df.head()"
   ]
  },
  {
   "cell_type": "markdown",
   "id": "6346b35a",
   "metadata": {},
   "source": [
    "# Model Building"
   ]
  },
  {
   "cell_type": "markdown",
   "id": "320dfb3f",
   "metadata": {},
   "source": [
    "## Train Test Split"
   ]
  },
  {
   "cell_type": "code",
   "execution_count": 617,
   "id": "8d2bed1d",
   "metadata": {},
   "outputs": [
    {
     "data": {
      "text/html": [
       "<div>\n",
       "<style scoped>\n",
       "    .dataframe tbody tr th:only-of-type {\n",
       "        vertical-align: middle;\n",
       "    }\n",
       "\n",
       "    .dataframe tbody tr th {\n",
       "        vertical-align: top;\n",
       "    }\n",
       "\n",
       "    .dataframe thead th {\n",
       "        text-align: right;\n",
       "    }\n",
       "</style>\n",
       "<table border=\"1\" class=\"dataframe\">\n",
       "  <thead>\n",
       "    <tr style=\"text-align: right;\">\n",
       "      <th></th>\n",
       "      <th>Season</th>\n",
       "      <th>Age</th>\n",
       "      <th>Height (cm)</th>\n",
       "      <th>Yes</th>\n",
       "      <th>Brown</th>\n",
       "      <th>Brown</th>\n",
       "      <th>Green</th>\n",
       "    </tr>\n",
       "  </thead>\n",
       "  <tbody>\n",
       "    <tr>\n",
       "      <th>0</th>\n",
       "      <td>15.0</td>\n",
       "      <td>25.0</td>\n",
       "      <td>190.500000</td>\n",
       "      <td>1</td>\n",
       "      <td>1</td>\n",
       "      <td>1</td>\n",
       "      <td>0</td>\n",
       "    </tr>\n",
       "    <tr>\n",
       "      <th>1</th>\n",
       "      <td>15.0</td>\n",
       "      <td>26.0</td>\n",
       "      <td>187.960000</td>\n",
       "      <td>0</td>\n",
       "      <td>1</td>\n",
       "      <td>0</td>\n",
       "      <td>1</td>\n",
       "    </tr>\n",
       "    <tr>\n",
       "      <th>2</th>\n",
       "      <td>15.0</td>\n",
       "      <td>27.0</td>\n",
       "      <td>175.250000</td>\n",
       "      <td>0</td>\n",
       "      <td>1</td>\n",
       "      <td>1</td>\n",
       "      <td>0</td>\n",
       "    </tr>\n",
       "    <tr>\n",
       "      <th>3</th>\n",
       "      <td>15.0</td>\n",
       "      <td>24.0</td>\n",
       "      <td>175.000000</td>\n",
       "      <td>0</td>\n",
       "      <td>0</td>\n",
       "      <td>1</td>\n",
       "      <td>0</td>\n",
       "    </tr>\n",
       "    <tr>\n",
       "      <th>4</th>\n",
       "      <td>15.0</td>\n",
       "      <td>27.0</td>\n",
       "      <td>184.799802</td>\n",
       "      <td>0</td>\n",
       "      <td>1</td>\n",
       "      <td>0</td>\n",
       "      <td>1</td>\n",
       "    </tr>\n",
       "  </tbody>\n",
       "</table>\n",
       "</div>"
      ],
      "text/plain": [
       "   Season   Age  Height (cm)  Yes  Brown  Brown  Green\n",
       "0    15.0  25.0   190.500000    1      1      1      0\n",
       "1    15.0  26.0   187.960000    0      1      0      1\n",
       "2    15.0  27.0   175.250000    0      1      1      0\n",
       "3    15.0  24.0   175.000000    0      0      1      0\n",
       "4    15.0  27.0   184.799802    0      1      0      1"
      ]
     },
     "execution_count": 617,
     "metadata": {},
     "output_type": "execute_result"
    }
   ],
   "source": [
    "df.drop('Win_Loss',axis=1).head()"
   ]
  },
  {
   "cell_type": "code",
   "execution_count": 618,
   "id": "bac6194c",
   "metadata": {},
   "outputs": [
    {
     "data": {
      "text/plain": [
       "0    1.0\n",
       "1    0.0\n",
       "2    0.0\n",
       "3    0.0\n",
       "4    0.0\n",
       "Name: Win_Loss, dtype: float64"
      ]
     },
     "execution_count": 618,
     "metadata": {},
     "output_type": "execute_result"
    }
   ],
   "source": [
    "df['Win_Loss'].head()"
   ]
  },
  {
   "cell_type": "code",
   "execution_count": 619,
   "id": "b0693da7",
   "metadata": {},
   "outputs": [],
   "source": [
    "X_train = df.drop(\"Win_Loss\", axis=1)\n",
    "Y_train = df[\"Win_Loss\"]"
   ]
  },
  {
   "cell_type": "code",
   "execution_count": 620,
   "id": "9e5648b9",
   "metadata": {},
   "outputs": [],
   "source": [
    "from sklearn.model_selection import train_test_split"
   ]
  },
  {
   "cell_type": "code",
   "execution_count": 621,
   "id": "b9be8250",
   "metadata": {},
   "outputs": [],
   "source": [
    "X_train, X_test, y_train, y_test = train_test_split(df.drop('Win_Loss',axis=1), \n",
    "                                                    df['Win_Loss'], test_size=0.30, \n",
    "                                                    random_state=101)"
   ]
  },
  {
   "cell_type": "markdown",
   "id": "55524025",
   "metadata": {},
   "source": [
    "# Training and Predicting"
   ]
  },
  {
   "cell_type": "markdown",
   "id": "7b6acc2e",
   "metadata": {},
   "source": [
    "## Building a Logistic Regression Model"
   ]
  },
  {
   "cell_type": "code",
   "execution_count": 622,
   "id": "1eb2f089",
   "metadata": {},
   "outputs": [],
   "source": [
    "from sklearn.linear_model import LogisticRegression"
   ]
  },
  {
   "cell_type": "code",
   "execution_count": 623,
   "id": "f3c56745",
   "metadata": {},
   "outputs": [
    {
     "data": {
      "text/plain": [
       "LogisticRegression(max_iter=2000)"
      ]
     },
     "execution_count": 623,
     "metadata": {},
     "output_type": "execute_result"
    }
   ],
   "source": [
    "logmodel = LogisticRegression(max_iter = 2000)\n",
    "logmodel.fit(X_train,y_train)"
   ]
  },
  {
   "cell_type": "code",
   "execution_count": 624,
   "id": "4a59f2af",
   "metadata": {},
   "outputs": [],
   "source": [
    "predictions = logmodel.predict(X_test)"
   ]
  },
  {
   "cell_type": "code",
   "execution_count": 625,
   "id": "165b772e",
   "metadata": {},
   "outputs": [],
   "source": [
    "from sklearn.metrics import confusion_matrix"
   ]
  },
  {
   "cell_type": "code",
   "execution_count": 626,
   "id": "dcca4e18",
   "metadata": {},
   "outputs": [],
   "source": [
    "accuracy=confusion_matrix(y_test,predictions)"
   ]
  },
  {
   "cell_type": "code",
   "execution_count": 627,
   "id": "0251fd57",
   "metadata": {},
   "outputs": [
    {
     "data": {
      "text/plain": [
       "array([[41,  0],\n",
       "       [ 2,  0]], dtype=int64)"
      ]
     },
     "execution_count": 627,
     "metadata": {},
     "output_type": "execute_result"
    }
   ],
   "source": [
    "accuracy"
   ]
  },
  {
   "cell_type": "code",
   "execution_count": 628,
   "id": "41e05332",
   "metadata": {},
   "outputs": [],
   "source": [
    "from sklearn.metrics import accuracy_score"
   ]
  },
  {
   "cell_type": "code",
   "execution_count": 629,
   "id": "9bb65f86",
   "metadata": {},
   "outputs": [
    {
     "data": {
      "text/plain": [
       "0.9534883720930233"
      ]
     },
     "execution_count": 629,
     "metadata": {},
     "output_type": "execute_result"
    }
   ],
   "source": [
    "accuracy=accuracy_score(y_test,predictions)\n",
    "accuracy"
   ]
  },
  {
   "cell_type": "code",
   "execution_count": 630,
   "id": "0843c520",
   "metadata": {},
   "outputs": [
    {
     "data": {
      "text/plain": [
       "array([0., 0., 0., 0., 0., 0., 0., 0., 0., 0., 0., 0., 0., 0., 0., 0., 0.,\n",
       "       0., 0., 0., 0., 0., 0., 0., 0., 0., 0., 0., 0., 0., 0., 0., 0., 0.,\n",
       "       0., 0., 0., 0., 0., 0., 0., 0., 0.])"
      ]
     },
     "execution_count": 630,
     "metadata": {},
     "output_type": "execute_result"
    }
   ],
   "source": [
    "predictions"
   ]
  },
  {
   "cell_type": "markdown",
   "id": "0e079fd6",
   "metadata": {},
   "source": [
    "# Final Evaluation "
   ]
  },
  {
   "cell_type": "markdown",
   "id": "510b4455",
   "metadata": {},
   "source": [
    "## We check the classification report"
   ]
  },
  {
   "cell_type": "code",
   "execution_count": 631,
   "id": "cf4ac3b3",
   "metadata": {},
   "outputs": [],
   "source": [
    "from sklearn.metrics import classification_report"
   ]
  },
  {
   "cell_type": "code",
   "execution_count": 632,
   "id": "f5b8e55c",
   "metadata": {},
   "outputs": [
    {
     "name": "stdout",
     "output_type": "stream",
     "text": [
      "              precision    recall  f1-score   support\n",
      "\n",
      "         0.0       0.95      1.00      0.98        41\n",
      "         1.0       0.00      0.00      0.00         2\n",
      "\n",
      "    accuracy                           0.95        43\n",
      "   macro avg       0.48      0.50      0.49        43\n",
      "weighted avg       0.91      0.95      0.93        43\n",
      "\n"
     ]
    },
    {
     "name": "stderr",
     "output_type": "stream",
     "text": [
      "C:\\Users\\Admin\\anaconda3\\lib\\site-packages\\sklearn\\metrics\\_classification.py:1245: UndefinedMetricWarning:\n",
      "\n",
      "Precision and F-score are ill-defined and being set to 0.0 in labels with no predicted samples. Use `zero_division` parameter to control this behavior.\n",
      "\n",
      "C:\\Users\\Admin\\anaconda3\\lib\\site-packages\\sklearn\\metrics\\_classification.py:1245: UndefinedMetricWarning:\n",
      "\n",
      "Precision and F-score are ill-defined and being set to 0.0 in labels with no predicted samples. Use `zero_division` parameter to control this behavior.\n",
      "\n",
      "C:\\Users\\Admin\\anaconda3\\lib\\site-packages\\sklearn\\metrics\\_classification.py:1245: UndefinedMetricWarning:\n",
      "\n",
      "Precision and F-score are ill-defined and being set to 0.0 in labels with no predicted samples. Use `zero_division` parameter to control this behavior.\n",
      "\n"
     ]
    }
   ],
   "source": [
    "print(classification_report(y_test,predictions))"
   ]
  }
 ],
 "metadata": {
  "kernelspec": {
   "display_name": "Python 3",
   "language": "python",
   "name": "python3"
  },
  "language_info": {
   "codemirror_mode": {
    "name": "ipython",
    "version": 3
   },
   "file_extension": ".py",
   "mimetype": "text/x-python",
   "name": "python",
   "nbconvert_exporter": "python",
   "pygments_lexer": "ipython3",
   "version": "3.8.8"
  }
 },
 "nbformat": 4,
 "nbformat_minor": 5
}
